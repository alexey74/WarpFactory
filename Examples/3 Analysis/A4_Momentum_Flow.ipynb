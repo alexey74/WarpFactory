{
 "cells": [
  {
   "cell_type": "markdown",
   "metadata": {},
   "source": [
    "\n",
    "## Computing Momentum Flow Lines\n",
    "### Get Metric and Energy Tensor"
   ]
  },
  {
   "cell_type": "code",
   "execution_count": 1,
   "metadata": {
    "vscode": {
     "languageId": "matlab"
    }
   },
   "outputs": [],
   "source": [
    "%% Alcubierre\n",
    "gridSize = [1 20 20 20];\n",
    "worldCenter = (gridSize+1)./2;\n",
    "velocity = 0.5;\n",
    "R = 5;\n",
    "sigma = 0.5;\n",
    "Metric = metricGet_AlcubierreComoving(gridSize,worldCenter,velocity,R,sigma);\n",
    "\n",
    "% Compute energy tensor\n",
    "EnergyTensor = getEnergyTensor(Metric);"
   ]
  },
  {
   "cell_type": "markdown",
   "metadata": {},
   "source": [
    "\n",
    "### Get Momentum Flow Lines"
   ]
  },
  {
   "cell_type": "code",
   "execution_count": 2,
   "metadata": {
    "vscode": {
     "languageId": "matlab"
    }
   },
   "outputs": [],
   "source": [
    "%% Get momentum flow lines\n",
    "\n",
    "% Define the inputs\n",
    "ngridsteps = 4;\n",
    "stepSize = 0.75;\n",
    "maxSteps = 10000;\n",
    "scaleFactor = 1/max(abs(EnergyTensor.tensor{1,2}),[],'all');\n",
    "\n",
    "% Build a grid of starting points using meshgrid\n",
    "[X,Y,Z] = meshgrid(1:ngridsteps:gridSize(2),1:ngridsteps:gridSize(3),1:ngridsteps:gridSize(4));\n",
    "\n",
    "% Assign the starting points into the cell format\n",
    "startPoints = cell(1,3);\n",
    "startPoints{1} = X;\n",
    "startPoints{2} = Y;\n",
    "startPoints{3} = Z;\n",
    "\n",
    "% Find the flowline paths\n",
    "[Paths] = getMomentumFlowLines(EnergyTensor, startPoints, stepSize, maxSteps, scaleFactor);"
   ]
  },
  {
   "cell_type": "markdown",
   "metadata": {},
   "source": [
    "\n",
    "### Plot Momentum Flow Lines"
   ]
  },
  {
   "cell_type": "code",
   "execution_count": 3,
   "metadata": {
    "vscode": {
     "languageId": "matlab"
    }
   },
   "outputs": [
    {
     "data": {
      "text/html": [
       "<center><img src=\"data:image/png;base64,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\" width=\"234\" alt=\"figure_0.png\"></center>"
      ]
     },
     "execution_count": 3,
     "metadata": {},
     "output_type": "execute_result"
    }
   ],
   "source": [
    "% Setup figure\n",
    "figure()\n",
    "hold on\n",
    "\n",
    "% Define the segment of paths to plot\n",
    "pathlength = 30; % length of index to plot the path\n",
    "startIdx = 10; % start index\n",
    "\n",
    "for i = 1:length(Paths)\n",
    "    if size(Paths{i},1) > pathlength && length(Paths{i}) > startIdx+pathlength\n",
    "        plot3(Paths{i}(startIdx:startIdx+pathlength,1), ...\n",
    "            Paths{i}(startIdx:startIdx+pathlength,2), ...\n",
    "            Paths{i}(startIdx:startIdx+pathlength,3),'k')\n",
    "    end\n",
    "end\n",
    "\n",
    "% Set the camera view\n",
    "view(45,45)"
   ]
  }
 ],
 "metadata": {
  "kernelspec": {
   "display_name": "Octave",
   "language": "octave",
   "name": "octave"
  },
  "language_info": {
   "file_extension": ".m",
   "mimetype": "text/matlab",
   "name": "octave",
   "nbconvert_exporter": "matlab",
   "pygments_lexer": "matlab",
   "version": "24.2.0.2754538"
  }
 },
 "nbformat": 4,
 "nbformat_minor": 4
}
