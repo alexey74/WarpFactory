{
 "cells": [
  {
   "cell_type": "markdown",
   "metadata": {},
   "source": [
    "\n",
    "## Metrics included with Warp Factory\n",
    "\n",
    "Now that you understand the basics of metrics, here are some existing metrics to explore.\n",
    "\n",
    "## Standard Metrics\n",
    "### Minkowski"
   ]
  },
  {
   "cell_type": "code",
   "execution_count": null,
   "metadata": {
    "vscode": {
     "languageId": "matlab"
    }
   },
   "outputs": [],
   "source": [
    "%% Minkowski\n",
    "gridSize = [1 10 10 10];\n",
    "gridScaling = [1 1 1 1];\n",
    "Metric = metricGet_Minkowski(gridSize, gridScaling);\n",
    "\n",
    "% Plotting\n",
    "clf\n",
    "for i = 1:4\n",
    "    for j = 1:4\n",
    "        h = nexttile;\n",
    "        surfq(Metric.tensor{i,j}(1,:,:,1),'EdgeColor','none')\n",
    "        title(num2str(i) + \",\" + num2str(j))\n",
    "    end\n",
    "end\n",
    "sgtitle(Metric.name)"
   ]
  },
  {
   "cell_type": "markdown",
   "metadata": {},
   "source": [
    "### Schwarzschild"
   ]
  },
  {
   "cell_type": "code",
   "execution_count": null,
   "metadata": {
    "vscode": {
     "languageId": "matlab"
    }
   },
   "outputs": [],
   "source": [
    "%% Schwarzschild\n",
    "gridSize = [1 20 20 20];\n",
    "worldCenter = (gridSize+1)./2;\n",
    "rs = 0.01;\n",
    "Metric = metricGet_Schwarzschild(gridSize,worldCenter,rs);\n",
    "\n",
    "% Plotting\n",
    "clf\n",
    "for i = 1:4\n",
    "    for j = 1:4\n",
    "        h = nexttile;\n",
    "        surfq(Metric.tensor{i,j}(1,:,:,round(worldCenter(4))),'EdgeColor','none')\n",
    "        title(num2str(i) + \",\" + num2str(j))\n",
    "    end\n",
    "end\n",
    "sgtitle(Metric.name)"
   ]
  },
  {
   "cell_type": "markdown",
   "metadata": {},
   "source": [
    "## Warp Metrics \\- Time Dependent\n",
    "\n",
    "These warp metrics move through the space. For a proper evaluation of the stress\\-energy tensor in warp factory, a minimum of 5 time steps must be instanced. Comoving metrics in the next section is preferred for most analyses since only 1 time slice is needed.\n",
    "\n",
    "### Alcubierre \\- Time Dependent"
   ]
  },
  {
   "cell_type": "code",
   "execution_count": null,
   "metadata": {
    "vscode": {
     "languageId": "matlab"
    }
   },
   "outputs": [],
   "source": [
    "%% Alcubierre\n",
    "gridSize = [5 20 20 20]; % Note the time size of 5\n",
    "worldCenter = (gridSize+1)./2;\n",
    "velocity = 0.5;\n",
    "R = 5;\n",
    "sigma = 0.5;\n",
    "Metric = metricGet_Alcubierre(gridSize,worldCenter,velocity,R,sigma);\n",
    "\n",
    "% Plotting\n",
    "clf\n",
    "for i = 1:4\n",
    "    for j = 1:4\n",
    "        h = nexttile;\n",
    "        surfq(Metric.tensor{i,j}(3,:,:,round(worldCenter(4))),'EdgeColor','none')\n",
    "        title(num2str(i) + \",\" + num2str(j))\n",
    "    end\n",
    "end\n",
    "sgtitle(Metric.name)"
   ]
  },
  {
   "cell_type": "markdown",
   "metadata": {},
   "source": [
    "### Van Den Broeck \\- Time Dependent"
   ]
  },
  {
   "cell_type": "code",
   "execution_count": null,
   "metadata": {
    "vscode": {
     "languageId": "matlab"
    }
   },
   "outputs": [],
   "source": [
    "%% Van Den Broeck\n",
    "gridSize = [5 20 20 20]; % Note the time size of 5\n",
    "worldCenter = (gridSize+1)./2;\n",
    "velocity = 0.1;\n",
    "R1 = 2;\n",
    "sigma1 = 1;\n",
    "R2 = 5;\n",
    "sigma2 = 1;\n",
    "alpha = 0.5;\n",
    "Metric = metricGet_VanDenBroeck(gridSize,worldCenter,velocity,R1,sigma1,R2,sigma2,alpha);\n",
    "\n",
    "% Plotting\n",
    "clf\n",
    "for i = 1:4\n",
    "    for j = 1:4\n",
    "        h = nexttile;\n",
    "        surfq(Metric.tensor{i,j}(3,:,:,round(worldCenter(4))),'EdgeColor','none')\n",
    "        title(num2str(i) + \",\" + num2str(j))\n",
    "        view(2)\n",
    "    end\n",
    "end\n",
    "sgtitle(Metric.name)"
   ]
  },
  {
   "cell_type": "markdown",
   "metadata": {},
   "source": [
    "### Lentz \\- Time Dependent"
   ]
  },
  {
   "cell_type": "code",
   "execution_count": null,
   "metadata": {
    "vscode": {
     "languageId": "matlab"
    }
   },
   "outputs": [],
   "source": [
    "%% Lentz\n",
    "gridSize = [5 30 30 2];  % Note the time size of 5, trailing size must be at least 2\n",
    "worldCenter = (gridSize+1)./2;\n",
    "velocity = 0.1;\n",
    "Metric = metricGet_Lentz(gridSize,worldCenter,velocity);\n",
    "\n",
    "% Plotting\n",
    "clf\n",
    "for i = 1:4\n",
    "    for j = 1:4\n",
    "        h = nexttile;\n",
    "        surfq(Metric.tensor{i,j}(3,:,:,1),'EdgeColor','none')\n",
    "        title(num2str(i) + \",\" + num2str(j))\n",
    "        view(2)\n",
    "    end\n",
    "end\n",
    "sgtitle(Metric.name)"
   ]
  },
  {
   "cell_type": "markdown",
   "metadata": {},
   "source": [
    "\n",
    "## Warp Metrics \\- Comoving\n",
    "\n",
    "These warp metrics do not move through the space, hence the name 'comoving'. For a proper evaluation of the stress\\-energy tensor in warp factory, only 1 time slice is needed since the metric is time\\-invariant.\n",
    "\n",
    "### Alcubierre \\- Comoving"
   ]
  },
  {
   "cell_type": "code",
   "execution_count": null,
   "metadata": {
    "vscode": {
     "languageId": "matlab"
    }
   },
   "outputs": [],
   "source": [
    "%% Alcubierre\n",
    "gridSize = [1 20 20 20];\n",
    "worldCenter = (gridSize+1)./2;\n",
    "velocity = 0.5;\n",
    "R = 5;\n",
    "sigma = 0.5;\n",
    "Metric = metricGet_AlcubierreComoving(gridSize,worldCenter,velocity,R,sigma);\n",
    "\n",
    "% Plotting\n",
    "clf\n",
    "for i = 1:4\n",
    "    for j = 1:4\n",
    "        h = nexttile;\n",
    "        surfq(Metric.tensor{i,j}(1,:,:,round(worldCenter(4))),'EdgeColor','none')\n",
    "        title(num2str(i) + \",\" + num2str(j))\n",
    "    end\n",
    "end\n",
    "sgtitle(Metric.name)"
   ]
  },
  {
   "cell_type": "markdown",
   "metadata": {},
   "source": [
    "### Van Den Broeck \\- Comoving"
   ]
  },
  {
   "cell_type": "code",
   "execution_count": null,
   "metadata": {
    "vscode": {
     "languageId": "matlab"
    }
   },
   "outputs": [],
   "source": [
    "%% Van Den Broeck\n",
    "gridSize = [1 20 20 20];\n",
    "worldCenter = (gridSize+1)./2;\n",
    "velocity = 0.1;\n",
    "R1 = 2;\n",
    "sigma1 = 1;\n",
    "R2 = 5;\n",
    "sigma2 = 1;\n",
    "alpha = 0.5;\n",
    "Metric = metricGet_VanDenBroeckComoving(gridSize,worldCenter,velocity,R1,sigma1,R2,sigma2,alpha);\n",
    "\n",
    "% Plotting\n",
    "clf\n",
    "for i = 1:4\n",
    "    for j = 1:4\n",
    "        h = nexttile;\n",
    "        surfq(Metric.tensor{i,j}(1,:,:,round(worldCenter(4))),'EdgeColor','none')\n",
    "        title(num2str(i) + \",\" + num2str(j))\n",
    "        view(2)\n",
    "    end\n",
    "end\n",
    "sgtitle(Metric.name)"
   ]
  },
  {
   "cell_type": "markdown",
   "metadata": {},
   "source": [
    "### Lentz \\- Comoving"
   ]
  },
  {
   "cell_type": "code",
   "execution_count": null,
   "metadata": {
    "vscode": {
     "languageId": "matlab"
    }
   },
   "outputs": [],
   "source": [
    "%% Lentz\n",
    "gridSize = [1 30 30 2]; % Trailing size must be at least 2\n",
    "worldCenter = (gridSize+1)./2;\n",
    "velocity = 0.1;\n",
    "Metric = metricGet_LentzComoving(gridSize,worldCenter,velocity);\n",
    "\n",
    "% Plotting\n",
    "clf\n",
    "for i = 1:4\n",
    "    for j = 1:4\n",
    "        h = nexttile;\n",
    "        surfq(Metric.tensor{i,j}(1,:,:,1),'EdgeColor','none')\n",
    "        title(num2str(i) + \",\" + num2str(j))\n",
    "        view(2)\n",
    "    end\n",
    "end\n",
    "sgtitle(Metric.name)"
   ]
  },
  {
   "cell_type": "markdown",
   "metadata": {},
   "source": [
    "\n",
    "### Warp Shell \\- Comoving"
   ]
  },
  {
   "cell_type": "code",
   "execution_count": null,
   "metadata": {
    "vscode": {
     "languageId": "matlab"
    }
   },
   "outputs": [],
   "source": [
    "%%\n",
    "width = 800;\n",
    "height = 700;\n",
    "\n",
    "figSize6 = [150,150,width,1.7*height];\n",
    "textSize = 12;\n",
    "\n",
    "%% Shell Metric\n",
    "spaceScale = 2;\n",
    "timeScale = 1;\n",
    "tryGPU = 1;\n",
    "centered = 1;\n",
    "cartoonThickness = 5;\n",
    "\n",
    "R1 = 10;\n",
    "Rbuff = 0;\n",
    "R2 = 20;\n",
    "\n",
    "if centered == 1\n",
    "    gridSize = ceil([1,2*(R2+10)*spaceScale,2*(R2+10)*spaceScale,cartoonThickness]);\n",
    "else\n",
    "    gridSize = ceil([1,(R2+10)*spaceScale,(R2+10)*spaceScale,cartoonThickness]);\n",
    "end\n",
    "\n",
    "factor = 1/3;\n",
    "m = R2/(2*G)*c^2*factor;\n",
    "\n",
    "vWarp = 0.02; % in betas\n",
    "\n",
    "sigma = 0;\n",
    "doWarp = 1;\n",
    "\n",
    "gridScaling = [1/(timeScale*spaceScale*((vWarp)*c+1)),1/spaceScale,1/spaceScale,1/spaceScale];\n",
    "gridScaling(1) = 1/(1000*c);\n",
    "if centered == 1\n",
    "    worldCenter = [(cartoonThickness+1)/2,(2*(R2+10)*spaceScale+1)/2,(2*(R2+10)*spaceScale+1)/2,(cartoonThickness+1)/2].*gridScaling;\n",
    "else\n",
    "    worldCenter = [(cartoonThickness+1)/2,5,5,(cartoonThickness+1)/2].*gridScaling;\n",
    "end\n",
    "\n",
    "if centered == 1\n",
    "    x = linspace(0,2*(R2+10),gridSize(2)-4)';\n",
    "    y = linspace(0,2*(R2+10),gridSize(3)-4)';\n",
    "else\n",
    "    x = linspace(0,(R2+10),gridSize(2)-4)';\n",
    "    y = linspace(0,(R2+10),gridSize(3)-4)';\n",
    "end\n",
    "\n",
    "[X,Y] = meshgrid(x,y);\n",
    "\n",
    "if centered == 1\n",
    "    xlimit = [0 2*(R2+10)];\n",
    "else\n",
    "    xlimit = [0 (R2+10)];\n",
    "end\n",
    "\n",
    "smoothFactor = 4000;\n",
    "\n",
    "[Metric_ConstantWarp] = metricGet_WarpShellComoving(gridSize,worldCenter,m,R1,R2,Rbuff,sigma,smoothFactor,vWarp,doWarp,gridScaling);\n",
    "\n",
    "% Plotting\n",
    "zOffset = 0;\n",
    "figure('Position',figSize6)\n",
    "tensorNames = [\"g_{00}\", \"g_{01}\", \"g_{02}\", \"g_{03}\"; \"\",\"g_{11}\",\"g_{12}\",\"g_{13}\"; \"\",\"\",\"g_{22}\",\"g_{23}\"; \"\",\"\",\"\",\"g_{33}\"];\n",
    "c1 = [1 1 1 2 2 3];\n",
    "c2 = [1 2 3 2 3 3];\n",
    "for i = 1:length(c1)\n",
    "    h=nexttile;\n",
    "    toPlot = squeeze(Metric_ConstantWarp.tensor{c1(i),c2(i)}(1,3:end-2,3:end-2,round((end+1)/2+zOffset)))';\n",
    "    surf(squeeze(X),squeeze(Y),toPlot,\"EdgeAlpha\",0)\n",
    "    title(tensorNames(c1(i),c2(i)))\n",
    "    xlabel('X [m]')\n",
    "    ylabel('Y [m]')\n",
    "    set(gcf,'Color','w')\n",
    "    set(gca,'FontSize',textSize)\n",
    "    colormap(h, redblue(toPlot));\n",
    "    axis equal\n",
    "    colorbar\n",
    "    view(2)\n",
    "    box on\n",
    "    xlim([-2 (gridSize(2)+2)]./spaceScale)\n",
    "    ylim([-2 (gridSize(3)+2)]./spaceScale)\n",
    "end"
   ]
  }
 ],
 "metadata": {
  "kernelspec": {
   "display_name": "Octave",
   "language": "octave",
   "name": "octave"
  },
  "language_info": {
   "file_extension": ".m",
   "help_links": [
    {
     "text": "GNU Octave",
     "url": "https://www.gnu.org/software/octave/support.html"
    },
    {
     "text": "Octave Kernel",
     "url": "https://github.com/Calysto/octave_kernel"
    },
    {
     "text": "MetaKernel Magics",
     "url": "https://metakernel.readthedocs.io/en/latest/source/README.html"
    }
   ],
   "mimetype": "text/x-octave",
   "name": "octave",
   "version": "9.2.0"
  }
 },
 "nbformat": 4,
 "nbformat_minor": 4
}
