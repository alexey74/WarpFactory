{
 "cells": [
  {
   "cell_type": "markdown",
   "metadata": {},
   "source": [
    "\n",
    "## Building a Custom Metric\n",
    "\n",
    "Now that you understand the basics of metrics, let's provide the foundation for building a custom metric.\n",
    "\n",
    "### Needed properties\n",
    "\n",
    "A custom metric will require all of the properties described in the first metric example. Namely:\n",
    "\n",
    "\n",
    ".type\n",
    "\n",
    "\n",
    ".index\n",
    "\n",
    "\n",
    ".coords\n",
    "\n",
    "\n",
    ".scaling\n",
    "\n",
    "\n",
    ".tensor\n",
    "\n",
    "## Step\\-by\\-step\n",
    "\n",
    "You can use the code blocks below as a basis for creating a custom metric in Warp Factory.\n",
    "\n",
    "### Create a new MATLAB function file\n",
    "\n",
    "Inside the 'Metrics' folder, right\\-click and select New\\->Function\n",
    "\n",
    "\n",
    "Name the file 'myCustomMetric.m'\n",
    "\n",
    "### Replace the function definition with"
   ]
  },
  {
   "cell_type": "code",
   "execution_count": 1,
   "metadata": {
    "vscode": {
     "languageId": "matlab"
    }
   },
   "outputs": [],
   "source": [
    "function [Metric] = myCustomMetric(gridSize,worldCenter,gridScaling,[args])"
   ]
  },
  {
   "cell_type": "markdown",
   "metadata": {},
   "source": [
    "\n",
    "Where \\[args\\] are any needed parameters to create your metric.\n",
    "\n",
    "### Define needed properties besides tensor"
   ]
  },
  {
   "cell_type": "code",
   "execution_count": 2,
   "metadata": {
    "vscode": {
     "languageId": "matlab"
    }
   },
   "outputs": [],
   "source": [
    "Metric.type = \"metric\";\n",
    "Metric.name = \"My Custom Metric\";\n",
    "Metric.scaling = gridScaling;\n",
    "Metric.coords = \"cartesian\";\n",
    "Metric.index = \"covariant\";\n",
    "Metric.date = date;"
   ]
  },
  {
   "cell_type": "markdown",
   "metadata": {},
   "source": [
    "### Define metric tensor components\n",
    "\n",
    "The tensor object is a 4x4 cell array. Each cell contains an array of values for each point in spacetime.\n"
   ]
  },
  {
   "cell_type": "code",
   "execution_count": 3,
   "metadata": {
    "vscode": {
     "languageId": "matlab"
    }
   },
   "outputs": [],
   "source": [
    "T = 1:gridSize(1);\n",
    "X = 1:gridSize(2);\n",
    "Y = 1:gridSize(3);\n",
    "Z = 1:gridSize(4);\n",
    "\n",
    "% Set Minkowski terms\n",
    "% This sets all 4x4 terms of the tensor to flat space\n",
    "% This allows you to delete flat parts of the metric in the assignments\n",
    "% below\n",
    "Metric.tensor = setMinkowski(gridSize);\n",
    "\n",
    "% Assign metric terms\n",
    "for h = T\n",
    "    for i = X\n",
    "        for j = Y\n",
    "            for k = Z\n",
    "                % Define grid coordinates\n",
    "                t = h*gridScaling(1)-worldCenter(1)\n",
    "                x = i*gridScaling(2)-worldCenter(2);\n",
    "                y = j*gridScaling(3)-worldCenter(3);\n",
    "                z = k*gridScaling(4)-worldCenter(4);\n",
    "\n",
    "                % Diagonal terms\n",
    "                Metric.tensor{1,1}(h,i,j,k) = % Your equations as a function of t,x,y,z here\n",
    "                Metric.tensor{2,2}(h,i,j,k) = % Your equations as a function of t,x,y,z here\n",
    "                Metric.tensor{3,3}(h,i,j,k) = % Your equations as a function of t,x,y,z here\n",
    "                Metric.tensor{4,4}(h,i,j,k) = % Your equations as a function of t,x,y,z here\n",
    "\n",
    "                % Time cross terms\n",
    "                Metric.tensor{1,2}(h,i,j,k) = % Your equations as a function of t,x,y,z here\n",
    "                Metric.tensor{1,3}(h,i,j,k) = % Your equations as a function of t,x,y,z here\n",
    "                Metric.tensor{1,4}(h,i,j,k) = % Your equations as a function of t,x,y,z here\n",
    "\n",
    "                % Spatial cross terms\n",
    "                Metric.tensor{2,3}(h,i,j,k) = % Your equations as a function of t,x,y,z here\n",
    "                Metric.tensor{2,4}(h,i,j,k) = % Your equations as a function of t,x,y,z here\n",
    "                Metric.tensor{3,4}(h,i,j,k) = % Your equations as a function of t,x,y,z here\n",
    "\n",
    "                % Assign Symmetric Values\n",
    "                Metric.tensor{2,1}(h,i,j,k) = Metric.tensor{1,2}(h,i,j,k);\n",
    "                Metric.tensor{3,1}(h,i,j,k) = Metric.tensor{1,3}(h,i,j,k);\n",
    "                Metric.tensor{4,1}(h,i,j,k) = Metric.tensor{1,4}(h,i,j,k);\n",
    "                Metric.tensor{3,2}(h,i,j,k) = Metric.tensor{2,3}(h,i,j,k);\n",
    "                Metric.tensor{4,2}(h,i,j,k) = Metric.tensor{2,4}(h,i,j,k);\n",
    "                Metric.tensor{4,3}(h,i,j,k) = Metric.tensor{3,4}(h,i,j,k);\n",
    "            end\n",
    "        end\n",
    "    end\n",
    "end"
   ]
  },
  {
   "cell_type": "markdown",
   "metadata": {},
   "source": [
    "### End the Function"
   ]
  },
  {
   "cell_type": "code",
   "execution_count": 4,
   "metadata": {
    "vscode": {
     "languageId": "matlab"
    }
   },
   "outputs": [],
   "source": [
    "end"
   ]
  },
  {
   "cell_type": "markdown",
   "metadata": {},
   "source": [
    "### Calling Your Function\n",
    "\n",
    "In the Command Window or in custom script, your metric can be called via:\n"
   ]
  },
  {
   "cell_type": "code",
   "execution_count": 5,
   "metadata": {
    "vscode": {
     "languageId": "matlab"
    }
   },
   "outputs": [],
   "source": [
    "% Specify default args\n",
    "gridSize = [1 20 20 20];\n",
    "worldCenter = (gridSize+1)./2;\n",
    "gridScaling = [1 1 1 1];\n",
    "\n",
    "% Specify custom args here\n",
    "args =\n",
    "\n",
    "Metric = myCustomMetric(gridSize,worldCenter,gridScaling,[args]);"
   ]
  },
  {
   "cell_type": "markdown",
   "metadata": {},
   "source": [
    "\n",
    "## 3+1 Definition\n",
    "\n",
    "Similar to building your metric directly via the metric tensor components, you can also build your metric via the 3+1 components.\n",
    "\n",
    "\n",
    "The defining metric tensor components section gets changed to:\n"
   ]
  },
  {
   "cell_type": "code",
   "execution_count": 6,
   "metadata": {
    "vscode": {
     "languageId": "matlab"
    }
   },
   "outputs": [],
   "source": [
    "T = 1:gridSize(1);\n",
    "X = 1:gridSize(2);\n",
    "Y = 1:gridSize(3);\n",
    "Z = 1:gridSize(4);\n",
    "\n",
    "% Set Minkowski terms\n",
    "% This sets all 4x4 3+1 components to that flat space\n",
    "% This allows you to delete flat parts of the 3+1 in the assignments\n",
    "% below\n",
    "[alpha, beta, gamma] = setMinkowskiThreePlusOne(gridSize);\n",
    "\n",
    "% Assign 3+1 terms\n",
    "for h = T\n",
    "    for i = X\n",
    "        for j = Y\n",
    "            for k = Z\n",
    "                % Define grid coordinates\n",
    "                t = h*gridScaling(1)-worldCenter(1)\n",
    "                x = i*gridScaling(2)-worldCenter(2);\n",
    "                y = j*gridScaling(3)-worldCenter(3);\n",
    "                z = k*gridScaling(4)-worldCenter(4);\n",
    "\n",
    "                % Alpha term\n",
    "                alpha(h,i,j,k) = % Your equations as a function of t,x,y,z here\n",
    "\n",
    "                % Beta terms\n",
    "                beta{1}(h,i,j,k) = % Your equations as a function of t,x,y,z here\n",
    "                beta{2}(h,i,j,k) = % Your equations as a function of t,x,y,z here\n",
    "                beta{3}(h,i,j,k) = % Your equations as a function of t,x,y,z here\n",
    "\n",
    "                % Gamma terms\n",
    "                gamma{1,1}(h,i,j,k) = % Your equations as a function of t,x,y,z here\n",
    "                gamma{2,2}(h,i,j,k) = % Your equations as a function of t,x,y,z here\n",
    "                gamma{3,3}(h,i,j,k) = % Your equations as a function of t,x,y,z here\n",
    "                gamma{1,2}(h,i,j,k) = % Your equations as a function of t,x,y,z here\n",
    "                gamma{1,3}(h,i,j,k) = % Your equations as a function of t,x,y,z here\n",
    "                gamma{2,3}(h,i,j,k) = % Your equations as a function of t,x,y,z here\n",
    "\n",
    "                % Assign Symmetric Gamma Terms\n",
    "                gamma{2,1}(h,i,j,k) = gamma{1,2}(h,i,j,k);\n",
    "                gamma{3,1}(h,i,j,k) = gamma{1,3}(h,i,j,k);\n",
    "                gamma{3,2}(h,i,j,k) = gamma{2,3}(h,i,j,k);\n",
    "            end\n",
    "        end\n",
    "    end\n",
    "end\n",
    "\n",
    "% Convert 3+1 terms into the Metric\n",
    "Metric.tensor = threePlusOneBuilder(alpha,beta,gamma);"
   ]
  }
 ],
 "metadata": {
  "kernelspec": {
   "display_name": "Octave",
   "language": "octave",
   "name": "octave"
  },
  "language_info": {
   "file_extension": ".m",
   "mimetype": "text/matlab",
   "name": "octave",
   "nbconvert_exporter": "matlab",
   "pygments_lexer": "matlab",
   "version": "24.2.0.2754538"
  }
 },
 "nbformat": 4,
 "nbformat_minor": 4
}
